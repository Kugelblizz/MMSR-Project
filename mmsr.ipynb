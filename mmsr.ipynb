{
 "cells": [
  {
   "cell_type": "code",
   "execution_count": null,
   "metadata": {},
   "outputs": [],
   "source": [
    "import pandas as pd\n",
    "import numpy as np\n",
    "from sklearn.metrics.pairwise import cosine_similarity\n",
    "from sklearn.metrics import jaccard_score\n",
    "%config IPCompleter.greedy=True\n",
    "%config Completer.use_jedi = False"
   ]
  },
  {
   "cell_type": "code",
   "execution_count": null,
   "metadata": {},
   "outputs": [],
   "source": [
    "# to make display(...) show all rows of a dataframe\n",
    "pd.set_option('display.max_rows', None)"
   ]
  },
  {
   "cell_type": "code",
   "execution_count": null,
   "metadata": {},
   "outputs": [],
   "source": [
    "pd.reset_option('display.max_rows')"
   ]
  },
  {
   "cell_type": "code",
   "execution_count": null,
   "metadata": {},
   "outputs": [],
   "source": [
    "results"
   ]
  },
  {
   "cell_type": "code",
   "execution_count": null,
   "metadata": {},
   "outputs": [],
   "source": [
    "# evaluate results file \n",
    "results = pd.read_csv('results.csv')\n",
    "\n",
    "def rate(qresults, ks):\n",
    "    qmovie_id = qresults.movieId.head(1)    \n",
    "    rating = pd.DataFrame(index=[qmovie_id])\n",
    "    for k in ks:\n",
    "        rmovie_ids = [int(y.split(\"_\")[0]) for y in qresults.movieclipId.head(k)]\n",
    "        # rate relevance    \n",
    "        qgenres = genres.loc[qmovie_id]\n",
    "        rgenres = genres.loc[rmovie_ids]\n",
    "        rjscore = rgenres.apply(lambda row: jaccard_score(qgenres.values[0], row), axis=1)\n",
    "        prec = len(rjscore[rjscore > 0.5]) / len(rjscore)\n",
    "        rating['P@' + str(k)] = prec\n",
    "        # rate diversity\n",
    "        qtags = tags.loc[qmovie_id].iloc[0]\n",
    "        qtags = qtags[qtags > 0].index\n",
    "        rtags = (tags.loc[rmovie_ids] > 0).any()\n",
    "        rtags = rtags[rtags == True].index\n",
    "        abs_tag_cov = len(rtags)\n",
    "        rel_tag_cov = len(rtags) / len(qtags)\n",
    "        rating['AbsTagCov@' + str(k)] = abs_tag_cov\n",
    "        rating['RelTagCov@' + str(k)] = rel_tag_cov\n",
    "        # TODO not sure how to calculate tag entropy...\n",
    "    return rating\n",
    "    \n",
    "results_per_query = results.groupby('movieId')\n",
    "# TODO this is super slow...\n",
    "ratings = results_per_query.apply(lambda x: rate(x, [10]))\n",
    "ratings.index = ratings.index.get_level_values(0)\n",
    "display(ratings)"
   ]
  },
  {
   "cell_type": "code",
   "execution_count": null,
   "metadata": {},
   "outputs": [],
   "source": [
    "# parse data\n",
    "movies = pd.read_csv('MMSR_dataset_2019/devset_movies.csv')\n",
    "clips = pd.read_csv('MMSR_dataset_2019/devset_ids.csv')\n",
    "tags = pd.read_csv('MMSR_dataset_2019/features/Metadata/devset_TagFeatures.csv')\n",
    "genres = pd.read_csv('MMSR_dataset_2019/features/Metadata/devset_GenreFeatures.csv')\n",
    "\n",
    "# index by movieId\n",
    "movies.set_index('movieId', inplace=True)\n",
    "tags.set_index('movieId', inplace=True)\n",
    "clips.set_index('movieId', inplace=True)\n",
    "genres.set_index('movieId', inplace=True)\n",
    "\n",
    "# fix missing movies in tags\n",
    "tags = movies.join(tags).drop('title', axis=1).fillna(0)"
   ]
  },
  {
   "cell_type": "code",
   "execution_count": null,
   "metadata": {},
   "outputs": [],
   "source": [
    "# compute cosine similarities between tag tf_idf vectors\n",
    "tags_cos_sim = pd.DataFrame(cosine_similarity(tags.values),\n",
    "                            columns=tags.index.values, \n",
    "                            index=tags.index)"
   ]
  },
  {
   "cell_type": "code",
   "execution_count": null,
   "metadata": {
    "scrolled": true
   },
   "outputs": [],
   "source": [
    "# generate results file (but do retrieval only based on tfidf features)\n",
    "results = pd.DataFrame(columns=['movieId', 'movieclipId', 'sim', 'rank'])\n",
    "\n",
    "for movieId in movies.index:\n",
    "    sim = tags_cos_sim[[movieId]]\n",
    "    sim = sim.reset_index()\n",
    "    sim = sim.rename(columns={movieId : 'sim', 'movieId': 'otherMovieId'})\n",
    "    sim = sim.join(clips, on='otherMovieId', how='outer')\n",
    "    sim = sim.reset_index(drop=True)\n",
    "    sim = sim.drop('otherMovieId', axis=1)\n",
    "    sim = sim.sort_values('sim', ascending=False)\n",
    "    sim = sim.head(100)\n",
    "    sim['rank'] = np.arange(100)\n",
    "    sim['movieId'] = np.full(100, movieId)\n",
    "    results = pd.concat([results, sim], ignore_index=True)\n",
    "results.to_csv('results.csv', columns=['movieId', 'movieclipId', 'sim', 'rank'], index=False)\n",
    "\n"
   ]
  }
 ],
 "metadata": {
  "kernelspec": {
   "display_name": "Python 3",
   "language": "python",
   "name": "python3"
  },
  "language_info": {
   "codemirror_mode": {
    "name": "ipython",
    "version": 3
   },
   "file_extension": ".py",
   "mimetype": "text/x-python",
   "name": "python",
   "nbconvert_exporter": "python",
   "pygments_lexer": "ipython3",
   "version": "3.7.4"
  }
 },
 "nbformat": 4,
 "nbformat_minor": 2
}
